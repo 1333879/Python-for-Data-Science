{
 "cells": [
  {
   "cell_type": "code",
   "execution_count": 1,
   "metadata": {},
   "outputs": [],
   "source": [
    "import pandas as pd \n",
    "import numpy as np\n",
    "import matplotlib.pyplot as plt\n",
    "from pandas_datareader import data as web\n",
    "from datetime import timedelta\n",
    "from datetime import datetime\n",
    "from pypfopt.discrete_allocation import DiscreteAllocation, get_latest_prices\n",
    "from scipy import stats\n",
    "import seaborn as sns\n",
    "import yfinance as yf\n",
    "import math"
   ]
  },
  {
   "cell_type": "code",
   "execution_count": 2,
   "metadata": {},
   "outputs": [],
   "source": [
    "def getData(portfolio):\n",
    "    df = pd.DataFrame()\n",
    "    for stock in portfolio:\n",
    "        s = yf.Ticker(stock)\n",
    "        df[stock] = s.history(period='max')[\"Close\"]\n",
    "    return df"
   ]
  },
  {
   "cell_type": "code",
   "execution_count": 3,
   "metadata": {},
   "outputs": [],
   "source": [
    "def VaR(portfolio, weights, price, date = datetime.today()):\n",
    "    '''\n",
    "    Takes in the list of stocks in your portfolio, \n",
    "    '''\n",
    "    df = getData(portfolio)\n",
    "    df = df[-501:]\n",
    "    df_exp =(df)/df.iloc[0]\n",
    "    df_exp = df_exp*weights*price\n",
    "    df['Value'] = df_exp.sum(axis = 1)\n",
    "    df_loss = df.set_index(np.arange(0,501,1))\n",
    "    for i in range(1,501):\n",
    "        df_loss.iloc[i-1] = (df.iloc[i]/df.iloc[i-1])*df.iloc[-1]\n",
    "    df_loss = df_loss[:-1]\n",
    "    for i in range (500):\n",
    "        df_loss['Value'].iloc[i]  = round(df_loss[\"Value\"].iloc[i]-df[\"Value\"].iloc[-1] , 2)\n",
    "    arr = df_loss['Value'].values *-1\n",
    "    arr = np.sort(arr)\n",
    "    print(\"The 1 day 99 percent confidence VaR is: \",'{:2f}'.format(round(arr[4],2)*-1))\n",
    "    print(\"The 10 day 99 percent confidence VaR is: \",'{:2f}'.format(round(arr[4],2)*math.sqrt(10)*-1))\n"
   ]
  },
  {
   "cell_type": "code",
   "execution_count": 12,
   "metadata": {},
   "outputs": [
    {
     "name": "stdout",
     "output_type": "stream",
     "text": [
      "The 1 day 99 percent confidence VaR is:  1186213.420000\n",
      "The 10 day 99 percent confidence VaR is:  3751136.198258\n"
     ]
    }
   ],
   "source": [
    "portfolio = ['AMZN']\n",
    "weights = np.array([1])\n",
    "price = 10000000\n",
    "VaR(portfolio, weights, price)\n"
   ]
  },
  {
   "cell_type": "code",
   "execution_count": 10,
   "metadata": {},
   "outputs": [
    {
     "name": "stdout",
     "output_type": "stream",
     "text": [
      "The 1 day 99 percent confidence VaR is:  888754.780000\n",
      "The 10 day 99 percent confidence VaR is:  2810489.386162\n"
     ]
    }
   ],
   "source": [
    "\n",
    "portfolio = ['FB', \"AAPL\", \"AMZN\", 'NFLX', 'GOOG']\n",
    "weights = np.array([0.2,0.2,0.2,0.2,0.2])\n",
    "start = '2013-01-01'\n",
    "VaR(portfolio, weights, price)\n"
   ]
  },
  {
   "cell_type": "markdown",
   "metadata": {},
   "source": [
    "Value at Risk is the defined as the maximum loss that we are anticipating the N number of days with X% confidence. \n",
    "\n",
    "Here we can clearly see that if we invest the same amount of money(10 million dollars) in one stock(AMZN), the value at risk is much higher as compared to the diverse portfolio withing FAANG. This is still not the most optimal portfolio. We can optimize the portfolio and that would lead to even lower value at Risk. \n",
    "\n",
    "Value at Risk is a great indicator of the fact that diversification in portfolio is very important. "
   ]
  },
  {
   "cell_type": "code",
   "execution_count": null,
   "metadata": {},
   "outputs": [],
   "source": []
  }
 ],
 "metadata": {
  "kernelspec": {
   "display_name": "Python 3",
   "language": "python",
   "name": "python3"
  },
  "language_info": {
   "codemirror_mode": {
    "name": "ipython",
    "version": 3
   },
   "file_extension": ".py",
   "mimetype": "text/x-python",
   "name": "python",
   "nbconvert_exporter": "python",
   "pygments_lexer": "ipython3",
   "version": "3.8.3"
  }
 },
 "nbformat": 4,
 "nbformat_minor": 4
}
