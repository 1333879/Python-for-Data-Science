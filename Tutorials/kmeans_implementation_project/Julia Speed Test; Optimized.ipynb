{
 "cells": [
  {
   "cell_type": "markdown",
   "metadata": {},
   "source": [
    "# Load Packages"
   ]
  },
  {
   "cell_type": "code",
   "execution_count": 1,
   "metadata": {
    "ExecuteTime": {
     "end_time": "2020-02-14T15:17:09.940000+01:00",
     "start_time": "2020-02-14T14:16:49.301Z"
    }
   },
   "outputs": [
    {
     "name": "stdout",
     "output_type": "stream",
     "text": [
      "\u001b[32m\u001b[1m  Building\u001b[22m\u001b[39m Conda ─→ `~/.julia/packages/Conda/3rPhK/deps/build.log`\n",
      "\u001b[32m\u001b[1m  Building\u001b[22m\u001b[39m PyCall → `~/.julia/packages/PyCall/kAhnQ/deps/build.log`\n"
     ]
    }
   ],
   "source": [
    "using Pkg\n",
    "\n",
    "# Replace python environment to suit your needs\n",
    "ENV[\"PYTHON\"] = \"/home/mysterio/miniconda3/envs/pydata/bin/python\"\n",
    "Pkg.build(\"PyCall\")  # Build PyCall to suit the specified Python env\n",
    "\n",
    "using PyCall\n",
    "using Plots\n",
    "using LinearAlgebra\n",
    "using Statistics\n",
    "using StatsBase\n",
    "using BenchmarkTools\n",
    "using Distances"
   ]
  },
  {
   "cell_type": "code",
   "execution_count": null,
   "metadata": {},
   "outputs": [],
   "source": []
  },
  {
   "cell_type": "code",
   "execution_count": 2,
   "metadata": {
    "ExecuteTime": {
     "end_time": "2020-02-14T15:17:15.595000+01:00",
     "start_time": "2020-02-14T14:16:49.324Z"
    }
   },
   "outputs": [],
   "source": [
    "# import sklearn datasets\n",
    "data = pyimport(\"sklearn.datasets\")\n",
    "\n",
    "X, y = data.make_blobs(n_samples=1000000, n_features=3, \n",
    "                       centers=3, cluster_std=0.9, random_state=80);"
   ]
  },
  {
   "cell_type": "code",
   "execution_count": 3,
   "metadata": {
    "ExecuteTime": {
     "end_time": "2020-02-14T15:17:16.220000+01:00",
     "start_time": "2020-02-14T14:16:49.332Z"
    }
   },
   "outputs": [
    {
     "data": {
      "text/plain": [
       "(1000000, 3)"
      ]
     },
     "execution_count": 3,
     "metadata": {},
     "output_type": "execute_result"
    }
   ],
   "source": [
    "size(X)"
   ]
  },
  {
   "cell_type": "code",
   "execution_count": null,
   "metadata": {},
   "outputs": [],
   "source": []
  },
  {
   "cell_type": "markdown",
   "metadata": {},
   "source": [
    "# Main Functions"
   ]
  },
  {
   "cell_type": "markdown",
   "metadata": {},
   "source": [
    "## Smart Random Initialisation "
   ]
  },
  {
   "cell_type": "code",
   "execution_count": 4,
   "metadata": {
    "ExecuteTime": {
     "end_time": "2020-02-14T15:17:16.874000+01:00",
     "start_time": "2020-02-14T14:16:49.348Z"
    }
   },
   "outputs": [
    {
     "data": {
      "text/plain": [
       "smart_init"
      ]
     },
     "execution_count": 4,
     "metadata": {},
     "output_type": "execute_result"
    }
   ],
   "source": [
    "\"\"\" \n",
    "    smart_init(X, k; init=\"k-means++\")\n",
    "\n",
    "    This function handles the random initialisation of the centroids from the\n",
    "    design matrix (X) and desired groups (k) that a user supplies. \n",
    "    \n",
    "    `k-means++` algorithm is used by default with the normal random selection\n",
    "    of centroids from X used if any other string is attempted. \n",
    "    \n",
    "    A tuple representing the centroids, number of rows, & columns respecitively\n",
    "    is returned.\n",
    "\"\"\"\n",
    "function smart_init(X::Array{Float64, 2}, k::Int; init::String=\"k-means++\")\n",
    "    n_row, n_col = size(X)\n",
    "\n",
    "    if init == \"k-means++\"\n",
    "        \n",
    "        # randonmly select the first centroid from the data (X)\n",
    "        centroids = zeros(k, n_col)\n",
    "        rand_idx = rand(1:n_row)\n",
    "        centroids[1, :] = X[rand_idx, :]\n",
    "\n",
    "        # compute distances from the first centroid chosen to all the other data points\n",
    "        first_centroid_matrix = convert(Matrix, centroids[1, :]')\n",
    "        \n",
    "        # flatten distances\n",
    "        distances = vec(pairwise(Euclidean(), X, first_centroid_matrix, dims = 1))\n",
    "\n",
    "        for i = 2:k\n",
    "            # choose the next centroid, the probability for each data point to be chosen\n",
    "            # is directly proportional to its squared distance from the nearest centroid\n",
    "            prob = distances .^ 2\n",
    "            r_idx = sample(1:n_row, ProbabilityWeights(prob))\n",
    "            centroids[i, :] = X[r_idx, :]\n",
    "            \n",
    "            # Ignore setting the last centroid to help the separation of centroids\n",
    "            if i == (k-1)\n",
    "                break\n",
    "            end\n",
    "\n",
    "            # compute distances from the centroids to all data points\n",
    "            current_centroid_matrix = convert(Matrix, centroids[i, :]')\n",
    "            new_distances = vec(pairwise(Euclidean(), X, current_centroid_matrix, dims = 1))\n",
    "            \n",
    "            # and update the squared distance as the minimum distance to all centroid\n",
    "            distances = minimum([distances, new_distances])\n",
    "\n",
    "        end\n",
    "\n",
    "    else\n",
    "        # randomly select points from the design matrix as the initial centroids\n",
    "        rand_indices = rand(1:n_row, k)\n",
    "        centroids = X[rand_indices, :]\n",
    "\n",
    "    end\n",
    "\n",
    "    return centroids, n_row, n_col\n",
    "end"
   ]
  },
  {
   "cell_type": "code",
   "execution_count": null,
   "metadata": {},
   "outputs": [],
   "source": []
  },
  {
   "cell_type": "code",
   "execution_count": null,
   "metadata": {},
   "outputs": [],
   "source": []
  },
  {
   "cell_type": "markdown",
   "metadata": {},
   "source": [
    "## Inertia between centroids and points"
   ]
  },
  {
   "cell_type": "code",
   "execution_count": 5,
   "metadata": {
    "ExecuteTime": {
     "end_time": "2020-02-14T15:17:16.884000+01:00",
     "start_time": "2020-02-14T14:16:49.359Z"
    }
   },
   "outputs": [
    {
     "data": {
      "text/plain": [
       "sum_of_squares"
      ]
     },
     "execution_count": 5,
     "metadata": {},
     "output_type": "execute_result"
    }
   ],
   "source": [
    "\"\"\" \n",
    "    sum_of_squares(x, labels, centre, k)\n",
    "    \n",
    "    This function computes the total sum of squares based on the assigned (labels)\n",
    "    design matrix(x), centroids (centre), and the number of desired groups (k).\n",
    "\n",
    "    A Float type representing the computed metric is returned. \n",
    "\"\"\"\n",
    "function sum_of_squares(x::Array{Float64,2}, labels::Array{Int64,1}, centre::Array, k::Int)\n",
    "    ss = 0\n",
    "\n",
    "    for j = 1:k\n",
    "        group_data = x[findall(labels .== j), :]\n",
    "        group_centroid_matrix  = convert(Matrix, centre[j, :]')\n",
    "        group_distance = pairwise(Euclidean(), group_data, group_centroid_matrix, dims=1)\n",
    "\n",
    "        ss += sum(group_distance .^ 2)\n",
    "    end\n",
    "\n",
    "    return ss\n",
    "end"
   ]
  },
  {
   "cell_type": "code",
   "execution_count": null,
   "metadata": {},
   "outputs": [],
   "source": []
  },
  {
   "cell_type": "code",
   "execution_count": null,
   "metadata": {},
   "outputs": [],
   "source": []
  },
  {
   "cell_type": "markdown",
   "metadata": {},
   "source": [
    "## Main Clustering function"
   ]
  },
  {
   "cell_type": "code",
   "execution_count": 6,
   "metadata": {
    "ExecuteTime": {
     "end_time": "2020-02-14T15:17:17.036000+01:00",
     "start_time": "2020-02-14T14:16:49.371Z"
    }
   },
   "outputs": [
    {
     "data": {
      "text/plain": [
       "Kmeans"
      ]
     },
     "execution_count": 6,
     "metadata": {},
     "output_type": "execute_result"
    }
   ],
   "source": [
    "\"\"\"\n",
    "    Kmeans(design_matrix, k; k_init=\"k-means++\", max_iters=300, tol=1e-4, verbose=true)\n",
    "    This main function employs the K-means algorithm to cluster all examples\n",
    "    in the training data (design_matrix) into k groups using either the\n",
    "    `k-means++` or random initialisation.\n",
    "\"\"\"\n",
    "function Kmeans(design_matrix::Array{Float64, 2}, k::Int64; k_init::String=\"k-means++\",\n",
    "    max_iters::Int64=300, tol=1e-4, verbose::Bool=true)\n",
    "\n",
    "    centroids, n_row, n_col = smart_init(design_matrix, k, init=k_init)\n",
    "\n",
    "    # labels = rand(1:k, n_row)\n",
    "    # distances = zeros(n_row)\n",
    "    labels = Vector{Int}(undef, n_row)\n",
    "    distances = Vector{Float64}(undef, n_row)\n",
    "    centroids_cnt = Vector{Float64}(undef, size(centroids, 1))\n",
    "\n",
    "    J_previous = Inf64\n",
    "\n",
    "    nearest_neighbour = Array{Float64, 2}(undef, size(design_matrix, 1), size(centroids, 1))\n",
    "\n",
    "    # Update centroids & labels with closest members until convergence\n",
    "    for iter = 1:max_iters\n",
    "        pairwise!(nearest_neighbour, SqEuclidean(), design_matrix, centroids, dims=1)\n",
    "        # nearest_neighbour = pairwise(Euclidean(), design_matrix, centroids, dims=1)\n",
    "\n",
    "        for i in axes(nearest_neighbour, 1)\n",
    "            labels[i] = 1\n",
    "            distances[i] = nearest_neighbour[i, 1]\n",
    "            for j in 2:size(nearest_neighbour, 2)\n",
    "                if distances[i] > nearest_neighbour[i, j]\n",
    "                    labels[i] = j\n",
    "                    distances[i] = nearest_neighbour[i, j]\n",
    "                end\n",
    "            end\n",
    "        end\n",
    "        # min_val_idx = findmin.(eachrow(nearest_neighbour))\n",
    "\n",
    "        # distances = [x[1] for x in min_val_idx]\n",
    "        # labels = [x[2] for x in min_val_idx]\n",
    "        #\n",
    "        centroids .= 0.0\n",
    "        centroids_cnt .= 0.0\n",
    "        for i in axes(design_matrix, 1)\n",
    "            for j in axes(design_matrix, 2)\n",
    "                centroids[labels[i], j] += design_matrix[i, j]\n",
    "                centroids_cnt[labels[i]] += 1.0\n",
    "            end\n",
    "        end\n",
    "        for i in axes(centroids, 1)\n",
    "            for j in axes(centroids, 2)\n",
    "                centroids[i, j] /= centroids_cnt[i]\n",
    "            end\n",
    "        end\n",
    "\n",
    "        # centroids = [ mean( X[findall(labels .== j), : ], dims = 1) for j = 1:k]\n",
    "        # centroids = reduce(vcat, centroids)\n",
    "\n",
    "        # Cost objective\n",
    "        # J = (norm(distances) ^ 2) / n_row\n",
    "        J = mean(distances)\n",
    "\n",
    "        if verbose\n",
    "            # Show progress and terminate if J stopped decreasing.\n",
    "            println(\"Iteration \", iter, \": Jclust = \", J, \".\")\n",
    "        end;\n",
    "\n",
    "        # Final Step: Check for convergence\n",
    "        if iter > 1 && abs(J - J_previous) < (tol * J)\n",
    "\n",
    "            sum_squares = sum_of_squares(design_matrix, labels, centroids, k)\n",
    "\n",
    "            # Terminate algorithm with the assumption that K-means has converged\n",
    "            if verbose\n",
    "                println(\"Successfully terminated with convergence.\")\n",
    "            end\n",
    "\n",
    "            return labels, centroids, sum_squares\n",
    "\n",
    "        elseif iter == max_iters && abs(J - J_previous) > (tol * J)\n",
    "            throw(error(\"Failed to converge Check data and/or implementation or increase max_iter.\"))\n",
    "\n",
    "        end;\n",
    "\n",
    "        J_previous = J\n",
    "    end\n",
    "\n",
    "end"
   ]
  },
  {
   "cell_type": "code",
   "execution_count": null,
   "metadata": {},
   "outputs": [],
   "source": []
  },
  {
   "cell_type": "code",
   "execution_count": null,
   "metadata": {},
   "outputs": [],
   "source": []
  },
  {
   "cell_type": "markdown",
   "metadata": {},
   "source": [
    "# Test Speed"
   ]
  },
  {
   "cell_type": "code",
   "execution_count": 7,
   "metadata": {
    "ExecuteTime": {
     "end_time": "2020-02-14T15:17:17.820000+01:00",
     "start_time": "2020-02-14T14:16:49.377Z"
    }
   },
   "outputs": [
    {
     "data": {
      "text/plain": [
       "9-element Array{Int64,1}:\n",
       "  2\n",
       "  3\n",
       "  4\n",
       "  5\n",
       "  6\n",
       "  7\n",
       "  8\n",
       "  9\n",
       " 10"
      ]
     },
     "execution_count": 7,
     "metadata": {},
     "output_type": "execute_result"
    }
   ],
   "source": [
    "[i for i = 2:10]"
   ]
  },
  {
   "cell_type": "code",
   "execution_count": null,
   "metadata": {},
   "outputs": [],
   "source": []
  },
  {
   "cell_type": "code",
   "execution_count": 8,
   "metadata": {
    "ExecuteTime": {
     "end_time": "2020-02-14T15:17:17.850000+01:00",
     "start_time": "2020-02-14T14:16:49.381Z"
    }
   },
   "outputs": [
    {
     "data": {
      "text/plain": [
       "test_speed"
      ]
     },
     "execution_count": 8,
     "metadata": {},
     "output_type": "execute_result"
    }
   ],
   "source": [
    "\"\"\"\n",
    "    Just a convenient function to select the number of cluster groups based \n",
    "    on the elbow method. Requries testing 2 to 10 k ranges.\n",
    "\"\"\"\n",
    "function test_speed(x)\n",
    "    for i = 2:10\n",
    "        l, c, s = Kmeans(x, i, k_init=\"k-means++\", verbose=false)\n",
    "    end\n",
    "end"
   ]
  },
  {
   "cell_type": "code",
   "execution_count": null,
   "metadata": {},
   "outputs": [],
   "source": []
  },
  {
   "cell_type": "code",
   "execution_count": 9,
   "metadata": {
    "ExecuteTime": {
     "end_time": "2020-02-14T15:24:17.677000+01:00",
     "start_time": "2020-02-14T14:16:49.386Z"
    }
   },
   "outputs": [
    {
     "data": {
      "text/plain": [
       "BenchmarkTools.Trial: \n",
       "  memory estimate:  2.19 GiB\n",
       "  allocs estimate:  2078\n",
       "  --------------\n",
       "  minimum time:     5.816 s (7.30% GC)\n",
       "  median time:      6.487 s (5.13% GC)\n",
       "  mean time:        6.485 s (4.89% GC)\n",
       "  maximum time:     7.212 s (6.39% GC)\n",
       "  --------------\n",
       "  samples:          7\n",
       "  evals/sample:     1"
      ]
     },
     "execution_count": 9,
     "metadata": {},
     "output_type": "execute_result"
    }
   ],
   "source": [
    "r = @benchmark test_speed(X) samples=7 seconds=300"
   ]
  },
  {
   "cell_type": "code",
   "execution_count": null,
   "metadata": {},
   "outputs": [],
   "source": []
  },
  {
   "cell_type": "code",
   "execution_count": null,
   "metadata": {},
   "outputs": [],
   "source": []
  },
  {
   "cell_type": "markdown",
   "metadata": {},
   "source": [
    "# Final Output"
   ]
  },
  {
   "cell_type": "code",
   "execution_count": 10,
   "metadata": {
    "ExecuteTime": {
     "end_time": "2020-02-14T15:24:24.673000+01:00",
     "start_time": "2020-02-14T14:16:49.393Z"
    }
   },
   "outputs": [],
   "source": [
    "begin\n",
    "    num = []  # Store number of iterations\n",
    "    ss = []  # Store the sum of squares at each iteration\n",
    "    \n",
    "    for i = 2:10\n",
    "        l, c, s = Kmeans(X, i, k_init=\"k-means++\", verbose=false)\n",
    "        push!(num, i)\n",
    "        push!(ss, s)\n",
    "    end\n",
    "end"
   ]
  },
  {
   "cell_type": "code",
   "execution_count": null,
   "metadata": {},
   "outputs": [],
   "source": []
  },
  {
   "cell_type": "code",
   "execution_count": 11,
   "metadata": {
    "ExecuteTime": {
     "end_time": "2020-02-14T15:24:44.527000+01:00",
     "start_time": "2020-02-14T14:16:49.397Z"
    }
   },
   "outputs": [
    {
     "data": {
      "image/svg+xml": [
       "<?xml version=\"1.0\" encoding=\"utf-8\"?>\n",
       "<svg xmlns=\"http://www.w3.org/2000/svg\" xmlns:xlink=\"http://www.w3.org/1999/xlink\" width=\"600\" height=\"400\" viewBox=\"0 0 2400 1600\">\n",
       "<defs>\n",
       "  <clipPath id=\"clip5500\">\n",
       "    <rect x=\"0\" y=\"0\" width=\"2400\" height=\"1600\"/>\n",
       "  </clipPath>\n",
       "</defs>\n",
       "<path clip-path=\"url(#clip5500)\" d=\"\n",
       "M0 1600 L2400 1600 L2400 0 L0 0  Z\n",
       "  \" fill=\"#ffffff\" fill-rule=\"evenodd\" fill-opacity=\"1\"/>\n",
       "<defs>\n",
       "  <clipPath id=\"clip5501\">\n",
       "    <rect x=\"480\" y=\"0\" width=\"1681\" height=\"1600\"/>\n",
       "  </clipPath>\n",
       "</defs>\n",
       "<path clip-path=\"url(#clip5500)\" d=\"\n",
       "M353.272 1425.62 L2352.76 1425.62 L2352.76 121.675 L353.272 121.675  Z\n",
       "  \" fill=\"#ffffff\" fill-rule=\"evenodd\" fill-opacity=\"1\"/>\n",
       "<defs>\n",
       "  <clipPath id=\"clip5502\">\n",
       "    <rect x=\"353\" y=\"121\" width=\"2000\" height=\"1305\"/>\n",
       "  </clipPath>\n",
       "</defs>\n",
       "<polyline clip-path=\"url(#clip5502)\" style=\"stroke:#000000; stroke-width:2; stroke-opacity:0.1; fill:none\" points=\"\n",
       "  409.861,1425.62 409.861,121.675 \n",
       "  \"/>\n",
       "<polyline clip-path=\"url(#clip5502)\" style=\"stroke:#000000; stroke-width:2; stroke-opacity:0.1; fill:none\" points=\"\n",
       "  881.438,1425.62 881.438,121.675 \n",
       "  \"/>\n",
       "<polyline clip-path=\"url(#clip5502)\" style=\"stroke:#000000; stroke-width:2; stroke-opacity:0.1; fill:none\" points=\"\n",
       "  1353.01,1425.62 1353.01,121.675 \n",
       "  \"/>\n",
       "<polyline clip-path=\"url(#clip5502)\" style=\"stroke:#000000; stroke-width:2; stroke-opacity:0.1; fill:none\" points=\"\n",
       "  1824.59,1425.62 1824.59,121.675 \n",
       "  \"/>\n",
       "<polyline clip-path=\"url(#clip5502)\" style=\"stroke:#000000; stroke-width:2; stroke-opacity:0.1; fill:none\" points=\"\n",
       "  2296.17,1425.62 2296.17,121.675 \n",
       "  \"/>\n",
       "<polyline clip-path=\"url(#clip5502)\" style=\"stroke:#000000; stroke-width:2; stroke-opacity:0.1; fill:none\" points=\"\n",
       "  353.272,1250.93 2352.76,1250.93 \n",
       "  \"/>\n",
       "<polyline clip-path=\"url(#clip5502)\" style=\"stroke:#000000; stroke-width:2; stroke-opacity:0.1; fill:none\" points=\"\n",
       "  353.272,1047.76 2352.76,1047.76 \n",
       "  \"/>\n",
       "<polyline clip-path=\"url(#clip5502)\" style=\"stroke:#000000; stroke-width:2; stroke-opacity:0.1; fill:none\" points=\"\n",
       "  353.272,844.591 2352.76,844.591 \n",
       "  \"/>\n",
       "<polyline clip-path=\"url(#clip5502)\" style=\"stroke:#000000; stroke-width:2; stroke-opacity:0.1; fill:none\" points=\"\n",
       "  353.272,641.419 2352.76,641.419 \n",
       "  \"/>\n",
       "<polyline clip-path=\"url(#clip5502)\" style=\"stroke:#000000; stroke-width:2; stroke-opacity:0.1; fill:none\" points=\"\n",
       "  353.272,438.247 2352.76,438.247 \n",
       "  \"/>\n",
       "<polyline clip-path=\"url(#clip5502)\" style=\"stroke:#000000; stroke-width:2; stroke-opacity:0.1; fill:none\" points=\"\n",
       "  353.272,235.075 2352.76,235.075 \n",
       "  \"/>\n",
       "<polyline clip-path=\"url(#clip5500)\" style=\"stroke:#000000; stroke-width:4; stroke-opacity:1; fill:none\" points=\"\n",
       "  353.272,1425.62 2352.76,1425.62 \n",
       "  \"/>\n",
       "<polyline clip-path=\"url(#clip5500)\" style=\"stroke:#000000; stroke-width:4; stroke-opacity:1; fill:none\" points=\"\n",
       "  353.272,1425.62 353.272,121.675 \n",
       "  \"/>\n",
       "<polyline clip-path=\"url(#clip5500)\" style=\"stroke:#000000; stroke-width:4; stroke-opacity:1; fill:none\" points=\"\n",
       "  409.861,1425.62 409.861,1409.97 \n",
       "  \"/>\n",
       "<polyline clip-path=\"url(#clip5500)\" style=\"stroke:#000000; stroke-width:4; stroke-opacity:1; fill:none\" points=\"\n",
       "  881.438,1425.62 881.438,1409.97 \n",
       "  \"/>\n",
       "<polyline clip-path=\"url(#clip5500)\" style=\"stroke:#000000; stroke-width:4; stroke-opacity:1; fill:none\" points=\"\n",
       "  1353.01,1425.62 1353.01,1409.97 \n",
       "  \"/>\n",
       "<polyline clip-path=\"url(#clip5500)\" style=\"stroke:#000000; stroke-width:4; stroke-opacity:1; fill:none\" points=\"\n",
       "  1824.59,1425.62 1824.59,1409.97 \n",
       "  \"/>\n",
       "<polyline clip-path=\"url(#clip5500)\" style=\"stroke:#000000; stroke-width:4; stroke-opacity:1; fill:none\" points=\"\n",
       "  2296.17,1425.62 2296.17,1409.97 \n",
       "  \"/>\n",
       "<polyline clip-path=\"url(#clip5500)\" style=\"stroke:#000000; stroke-width:4; stroke-opacity:1; fill:none\" points=\"\n",
       "  353.272,1250.93 377.266,1250.93 \n",
       "  \"/>\n",
       "<polyline clip-path=\"url(#clip5500)\" style=\"stroke:#000000; stroke-width:4; stroke-opacity:1; fill:none\" points=\"\n",
       "  353.272,1047.76 377.266,1047.76 \n",
       "  \"/>\n",
       "<polyline clip-path=\"url(#clip5500)\" style=\"stroke:#000000; stroke-width:4; stroke-opacity:1; fill:none\" points=\"\n",
       "  353.272,844.591 377.266,844.591 \n",
       "  \"/>\n",
       "<polyline clip-path=\"url(#clip5500)\" style=\"stroke:#000000; stroke-width:4; stroke-opacity:1; fill:none\" points=\"\n",
       "  353.272,641.419 377.266,641.419 \n",
       "  \"/>\n",
       "<polyline clip-path=\"url(#clip5500)\" style=\"stroke:#000000; stroke-width:4; stroke-opacity:1; fill:none\" points=\"\n",
       "  353.272,438.247 377.266,438.247 \n",
       "  \"/>\n",
       "<polyline clip-path=\"url(#clip5500)\" style=\"stroke:#000000; stroke-width:4; stroke-opacity:1; fill:none\" points=\"\n",
       "  353.272,235.075 377.266,235.075 \n",
       "  \"/>\n",
       "<g clip-path=\"url(#clip5500)\">\n",
       "<text style=\"fill:#000000; fill-opacity:1; font-family:Arial,Helvetica Neue,Helvetica,sans-serif; font-size:48px; text-anchor:middle;\" transform=\"rotate(0, 409.861, 1479.62)\" x=\"409.861\" y=\"1479.62\">2</text>\n",
       "</g>\n",
       "<g clip-path=\"url(#clip5500)\">\n",
       "<text style=\"fill:#000000; fill-opacity:1; font-family:Arial,Helvetica Neue,Helvetica,sans-serif; font-size:48px; text-anchor:middle;\" transform=\"rotate(0, 881.438, 1479.62)\" x=\"881.438\" y=\"1479.62\">4</text>\n",
       "</g>\n",
       "<g clip-path=\"url(#clip5500)\">\n",
       "<text style=\"fill:#000000; fill-opacity:1; font-family:Arial,Helvetica Neue,Helvetica,sans-serif; font-size:48px; text-anchor:middle;\" transform=\"rotate(0, 1353.01, 1479.62)\" x=\"1353.01\" y=\"1479.62\">6</text>\n",
       "</g>\n",
       "<g clip-path=\"url(#clip5500)\">\n",
       "<text style=\"fill:#000000; fill-opacity:1; font-family:Arial,Helvetica Neue,Helvetica,sans-serif; font-size:48px; text-anchor:middle;\" transform=\"rotate(0, 1824.59, 1479.62)\" x=\"1824.59\" y=\"1479.62\">8</text>\n",
       "</g>\n",
       "<g clip-path=\"url(#clip5500)\">\n",
       "<text style=\"fill:#000000; fill-opacity:1; font-family:Arial,Helvetica Neue,Helvetica,sans-serif; font-size:48px; text-anchor:middle;\" transform=\"rotate(0, 2296.17, 1479.62)\" x=\"2296.17\" y=\"1479.62\">10</text>\n",
       "</g>\n",
       "<g clip-path=\"url(#clip5500)\">\n",
       "<text style=\"fill:#000000; fill-opacity:1; font-family:Arial,Helvetica Neue,Helvetica,sans-serif; font-size:48px; text-anchor:start;\" transform=\"rotate(0, 158.987, 1274.66)\" x=\"158.987\" y=\"1274.66\">3.5×10</text>\n",
       "</g>\n",
       "<g clip-path=\"url(#clip5500)\">\n",
       "<text style=\"fill:#000000; fill-opacity:1; font-family:Arial,Helvetica Neue,Helvetica,sans-serif; font-size:38px; text-anchor:start;\" transform=\"rotate(0, 307.528, 1247.25)\" x=\"307.528\" y=\"1247.25\">7</text>\n",
       "</g>\n",
       "<g clip-path=\"url(#clip5500)\">\n",
       "<text style=\"fill:#000000; fill-opacity:1; font-family:Arial,Helvetica Neue,Helvetica,sans-serif; font-size:48px; text-anchor:start;\" transform=\"rotate(0, 158.987, 1071.49)\" x=\"158.987\" y=\"1071.49\">4.0×10</text>\n",
       "</g>\n",
       "<g clip-path=\"url(#clip5500)\">\n",
       "<text style=\"fill:#000000; fill-opacity:1; font-family:Arial,Helvetica Neue,Helvetica,sans-serif; font-size:38px; text-anchor:start;\" transform=\"rotate(0, 307.528, 1044.08)\" x=\"307.528\" y=\"1044.08\">7</text>\n",
       "</g>\n",
       "<g clip-path=\"url(#clip5500)\">\n",
       "<text style=\"fill:#000000; fill-opacity:1; font-family:Arial,Helvetica Neue,Helvetica,sans-serif; font-size:48px; text-anchor:start;\" transform=\"rotate(0, 158.987, 868.318)\" x=\"158.987\" y=\"868.318\">4.5×10</text>\n",
       "</g>\n",
       "<g clip-path=\"url(#clip5500)\">\n",
       "<text style=\"fill:#000000; fill-opacity:1; font-family:Arial,Helvetica Neue,Helvetica,sans-serif; font-size:38px; text-anchor:start;\" transform=\"rotate(0, 307.528, 840.908)\" x=\"307.528\" y=\"840.908\">7</text>\n",
       "</g>\n",
       "<g clip-path=\"url(#clip5500)\">\n",
       "<text style=\"fill:#000000; fill-opacity:1; font-family:Arial,Helvetica Neue,Helvetica,sans-serif; font-size:48px; text-anchor:start;\" transform=\"rotate(0, 158.987, 665.146)\" x=\"158.987\" y=\"665.146\">5.0×10</text>\n",
       "</g>\n",
       "<g clip-path=\"url(#clip5500)\">\n",
       "<text style=\"fill:#000000; fill-opacity:1; font-family:Arial,Helvetica Neue,Helvetica,sans-serif; font-size:38px; text-anchor:start;\" transform=\"rotate(0, 307.528, 637.736)\" x=\"307.528\" y=\"637.736\">7</text>\n",
       "</g>\n",
       "<g clip-path=\"url(#clip5500)\">\n",
       "<text style=\"fill:#000000; fill-opacity:1; font-family:Arial,Helvetica Neue,Helvetica,sans-serif; font-size:48px; text-anchor:start;\" transform=\"rotate(0, 158.987, 461.974)\" x=\"158.987\" y=\"461.974\">5.5×10</text>\n",
       "</g>\n",
       "<g clip-path=\"url(#clip5500)\">\n",
       "<text style=\"fill:#000000; fill-opacity:1; font-family:Arial,Helvetica Neue,Helvetica,sans-serif; font-size:38px; text-anchor:start;\" transform=\"rotate(0, 307.528, 434.564)\" x=\"307.528\" y=\"434.564\">7</text>\n",
       "</g>\n",
       "<g clip-path=\"url(#clip5500)\">\n",
       "<text style=\"fill:#000000; fill-opacity:1; font-family:Arial,Helvetica Neue,Helvetica,sans-serif; font-size:48px; text-anchor:start;\" transform=\"rotate(0, 158.987, 258.802)\" x=\"158.987\" y=\"258.802\">6.0×10</text>\n",
       "</g>\n",
       "<g clip-path=\"url(#clip5500)\">\n",
       "<text style=\"fill:#000000; fill-opacity:1; font-family:Arial,Helvetica Neue,Helvetica,sans-serif; font-size:38px; text-anchor:start;\" transform=\"rotate(0, 307.528, 231.392)\" x=\"307.528\" y=\"231.392\">7</text>\n",
       "</g>\n",
       "<g clip-path=\"url(#clip5500)\">\n",
       "<text style=\"fill:#000000; fill-opacity:1; font-family:Arial,Helvetica Neue,Helvetica,sans-serif; font-size:84px; text-anchor:middle;\" transform=\"rotate(0, 1353.01, 73.2)\" x=\"1353.01\" y=\"73.2\">Test For Heterogeneity Per Iteration</text>\n",
       "</g>\n",
       "<g clip-path=\"url(#clip5500)\">\n",
       "<text style=\"fill:#000000; fill-opacity:1; font-family:Arial,Helvetica Neue,Helvetica,sans-serif; font-size:66px; text-anchor:middle;\" transform=\"rotate(0, 1353.01, 1559.48)\" x=\"1353.01\" y=\"1559.48\">Number of Iterations</text>\n",
       "</g>\n",
       "<g clip-path=\"url(#clip5500)\">\n",
       "<text style=\"fill:#000000; fill-opacity:1; font-family:Arial,Helvetica Neue,Helvetica,sans-serif; font-size:66px; text-anchor:middle;\" transform=\"rotate(-90, 89.2861, 773.647)\" x=\"89.2861\" y=\"773.647\">Sum of Squares</text>\n",
       "</g>\n",
       "<polyline clip-path=\"url(#clip5502)\" style=\"stroke:#009af9; stroke-width:4; stroke-opacity:1; fill:none\" points=\"\n",
       "  409.861,1021.09 645.649,1381.96 881.438,1381.96 1117.23,1382.84 1353.01,1384.27 1588.8,158.579 1824.59,1388.71 2060.38,1386.44 2296.17,1386.4 \n",
       "  \"/>\n",
       "<circle clip-path=\"url(#clip5502)\" cx=\"409.861\" cy=\"1021.09\" r=\"14\" fill=\"#ff0000\" fill-rule=\"evenodd\" fill-opacity=\"1\" stroke=\"#000000\" stroke-opacity=\"1\" stroke-width=\"3.2\"/>\n",
       "<circle clip-path=\"url(#clip5502)\" cx=\"645.649\" cy=\"1381.96\" r=\"14\" fill=\"#ff0000\" fill-rule=\"evenodd\" fill-opacity=\"1\" stroke=\"#000000\" stroke-opacity=\"1\" stroke-width=\"3.2\"/>\n",
       "<circle clip-path=\"url(#clip5502)\" cx=\"881.438\" cy=\"1381.96\" r=\"14\" fill=\"#ff0000\" fill-rule=\"evenodd\" fill-opacity=\"1\" stroke=\"#000000\" stroke-opacity=\"1\" stroke-width=\"3.2\"/>\n",
       "<circle clip-path=\"url(#clip5502)\" cx=\"1117.23\" cy=\"1382.84\" r=\"14\" fill=\"#ff0000\" fill-rule=\"evenodd\" fill-opacity=\"1\" stroke=\"#000000\" stroke-opacity=\"1\" stroke-width=\"3.2\"/>\n",
       "<circle clip-path=\"url(#clip5502)\" cx=\"1353.01\" cy=\"1384.27\" r=\"14\" fill=\"#ff0000\" fill-rule=\"evenodd\" fill-opacity=\"1\" stroke=\"#000000\" stroke-opacity=\"1\" stroke-width=\"3.2\"/>\n",
       "<circle clip-path=\"url(#clip5502)\" cx=\"1588.8\" cy=\"158.579\" r=\"14\" fill=\"#ff0000\" fill-rule=\"evenodd\" fill-opacity=\"1\" stroke=\"#000000\" stroke-opacity=\"1\" stroke-width=\"3.2\"/>\n",
       "<circle clip-path=\"url(#clip5502)\" cx=\"1824.59\" cy=\"1388.71\" r=\"14\" fill=\"#ff0000\" fill-rule=\"evenodd\" fill-opacity=\"1\" stroke=\"#000000\" stroke-opacity=\"1\" stroke-width=\"3.2\"/>\n",
       "<circle clip-path=\"url(#clip5502)\" cx=\"2060.38\" cy=\"1386.44\" r=\"14\" fill=\"#ff0000\" fill-rule=\"evenodd\" fill-opacity=\"1\" stroke=\"#000000\" stroke-opacity=\"1\" stroke-width=\"3.2\"/>\n",
       "<circle clip-path=\"url(#clip5502)\" cx=\"2296.17\" cy=\"1386.4\" r=\"14\" fill=\"#ff0000\" fill-rule=\"evenodd\" fill-opacity=\"1\" stroke=\"#000000\" stroke-opacity=\"1\" stroke-width=\"3.2\"/>\n",
       "</svg>\n"
      ]
     },
     "execution_count": 11,
     "metadata": {},
     "output_type": "execute_result"
    }
   ],
   "source": [
    "plot(num, ss, ylabel=\"Sum of Squares\", xlabel=\"Number of Iterations\",\n",
    "     title = \"Test For Heterogeneity Per Iteration\", legend=false)\n",
    "\n",
    "scatter!(num, ss, color=\"red\")"
   ]
  },
  {
   "cell_type": "code",
   "execution_count": 12,
   "metadata": {
    "ExecuteTime": {
     "end_time": "2020-02-14T15:24:45.232000+01:00",
     "start_time": "2020-02-14T14:16:49.402Z"
    }
   },
   "outputs": [
    {
     "data": {
      "text/plain": [
       "9-element Array{Any,1}:\n",
       " 4.0656481357783034e7\n",
       " 3.1775625176834874e7\n",
       " 3.1775625176834874e7\n",
       " 3.175380681499793e7 \n",
       " 3.1718695807655618e7\n",
       " 6.188253174725151e7 \n",
       " 3.1609285652354963e7\n",
       " 3.1665206627748072e7\n",
       " 3.166615786624614e7 "
      ]
     },
     "execution_count": 12,
     "metadata": {},
     "output_type": "execute_result"
    }
   ],
   "source": [
    "ss"
   ]
  },
  {
   "cell_type": "code",
   "execution_count": 15,
   "metadata": {
    "ExecuteTime": {
     "end_time": "2020-02-14T15:34:42.175000+01:00",
     "start_time": "2020-02-14T14:34:40.751Z"
    }
   },
   "outputs": [
    {
     "name": "stdout",
     "output_type": "stream",
     "text": [
      "Iteration 1: Jclust = 4.424048914134781.\n",
      "Iteration 2: Jclust = 30.74937050941666.\n",
      "Iteration 3: Jclust = 31.774794374784037.\n",
      "Iteration 4: Jclust = 31.77206906172218.\n",
      "Successfully terminated with convergence.\n"
     ]
    },
    {
     "data": {
      "text/plain": [
       "7×3 Array{Float64,2}:\n",
       "   0.148688    1.33227    -1.53401 \n",
       "  -0.982018    1.01532    -1.21926 \n",
       "  -1.92226    -1.21761    -1.55213 \n",
       "   1.16305     2.7205      1.23358 \n",
       "  -0.375706    0.631342   -1.65563 \n",
       " NaN         NaN         NaN       \n",
       "  -0.498466    0.824046   -0.256313"
      ]
     },
     "execution_count": 15,
     "metadata": {},
     "output_type": "execute_result"
    }
   ],
   "source": [
    "Kmeans(X, 7)[2]"
   ]
  },
  {
   "cell_type": "code",
   "execution_count": null,
   "metadata": {},
   "outputs": [],
   "source": []
  }
 ],
 "metadata": {
  "kernelspec": {
   "display_name": "Julia 1.3.1",
   "language": "julia",
   "name": "julia-1.3"
  },
  "language_info": {
   "file_extension": ".jl",
   "mimetype": "application/julia",
   "name": "julia",
   "version": "1.3.1"
  },
  "toc": {
   "base_numbering": 1,
   "nav_menu": {},
   "number_sections": true,
   "sideBar": true,
   "skip_h1_title": false,
   "title_cell": "Table of Contents",
   "title_sidebar": "Contents",
   "toc_cell": false,
   "toc_position": {},
   "toc_section_display": true,
   "toc_window_display": true
  },
  "varInspector": {
   "cols": {
    "lenName": 16,
    "lenType": 16,
    "lenVar": 40
   },
   "kernels_config": {
    "python": {
     "delete_cmd_postfix": "",
     "delete_cmd_prefix": "del ",
     "library": "var_list.py",
     "varRefreshCmd": "print(var_dic_list())"
    },
    "r": {
     "delete_cmd_postfix": ") ",
     "delete_cmd_prefix": "rm(",
     "library": "var_list.r",
     "varRefreshCmd": "cat(var_dic_list()) "
    }
   },
   "types_to_exclude": [
    "module",
    "function",
    "builtin_function_or_method",
    "instance",
    "_Feature"
   ],
   "window_display": false
  }
 },
 "nbformat": 4,
 "nbformat_minor": 4
}
